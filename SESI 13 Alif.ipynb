{
 "cells": [
  {
   "cell_type": "markdown",
   "id": "0b433f31",
   "metadata": {},
   "source": [
    "1. Kapan pengecualian bawaan berikut dimunculkan? Berikan contoh untuk mendukung jawaban Anda. (score = 70)\n",
    "\n",
    "* ImportError\n",
    "* IOError\n",
    "* NameError\n",
    "* ZeroDivisionError\n"
   ]
  },
  {
   "cell_type": "markdown",
   "id": "1fae8849",
   "metadata": {},
   "source": [
    "2. Jelaskan hal berikut: (score = 30)\n",
    "\n",
    "* Exception Handling\n",
    "* Menangkap exception"
   ]
  },
  {
   "cell_type": "markdown",
   "id": "abe627a1",
   "metadata": {},
   "source": [
    "# 1"
   ]
  },
  {
   "cell_type": "markdown",
   "id": "3b4596a5",
   "metadata": {},
   "source": [
    "# A. ImportError\n",
    "\n",
    "ImportError terjadi ketika sebuah program mencoba untuk mengimport modul atau paket yang tidak ditemukan atau tidak dapat diakses. Hal ini dapat terjadi karena modul atau paket tersebut tidak ada dalam sistem, atau karena tidak ada dalam PYTHONPATH (lokasi dimana Python mencari modul dan paket) atau karena terdapat kesalahan pada nama modul atau paket yang diimport. Contoh:\n"
   ]
  },
  {
   "cell_type": "code",
   "execution_count": 1,
   "id": "1edfda51",
   "metadata": {},
   "outputs": [
    {
     "ename": "ModuleNotFoundError",
     "evalue": "No module named 'modulSaya'",
     "output_type": "error",
     "traceback": [
      "\u001b[1;31m---------------------------------------------------------------------------\u001b[0m",
      "\u001b[1;31mModuleNotFoundError\u001b[0m                       Traceback (most recent call last)",
      "\u001b[1;32m~\\AppData\\Local\\Temp\\ipykernel_9212\\37861965.py\u001b[0m in \u001b[0;36m<module>\u001b[1;34m\u001b[0m\n\u001b[0;32m      1\u001b[0m \u001b[1;31m# akan error karena modul mymodule tidak ada\u001b[0m\u001b[1;33m\u001b[0m\u001b[1;33m\u001b[0m\u001b[0m\n\u001b[1;32m----> 2\u001b[1;33m \u001b[1;32mimport\u001b[0m \u001b[0mmodulSaya\u001b[0m\u001b[1;33m\u001b[0m\u001b[1;33m\u001b[0m\u001b[0m\n\u001b[0m",
      "\u001b[1;31mModuleNotFoundError\u001b[0m: No module named 'modulSaya'"
     ]
    }
   ],
   "source": [
    "# akan error karena modul mymodule tidak ada\n",
    "import modulSaya"
   ]
  },
  {
   "cell_type": "markdown",
   "id": "ce19237a",
   "metadata": {},
   "source": [
    "# B. IOError\n",
    "\n",
    "IOError terjadi ketika sebuah program mengalami masalah saat melakukan operasi input/output seperti membaca atau menulis file. Hal ini dapat terjadi karena file yang akan dibaca atau ditulis tidak ditemukan, tidak dapat diakses karena hak akses yang tidak cukup, atau karena masalah lainnya seperti masalah jaringan atau masalah perangkat keras. Contoh:\n"
   ]
  },
  {
   "cell_type": "code",
   "execution_count": 2,
   "id": "72b76d28",
   "metadata": {},
   "outputs": [
    {
     "ename": "FileNotFoundError",
     "evalue": "[Errno 2] No such file or directory: 'file.txt'",
     "output_type": "error",
     "traceback": [
      "\u001b[1;31m---------------------------------------------------------------------------\u001b[0m",
      "\u001b[1;31mFileNotFoundError\u001b[0m                         Traceback (most recent call last)",
      "\u001b[1;32m~\\AppData\\Local\\Temp\\ipykernel_9212\\2879375529.py\u001b[0m in \u001b[0;36m<module>\u001b[1;34m\u001b[0m\n\u001b[0;32m      1\u001b[0m \u001b[1;31m# akan error karena file tersebut tidak ada\u001b[0m\u001b[1;33m\u001b[0m\u001b[1;33m\u001b[0m\u001b[0m\n\u001b[0;32m      2\u001b[0m \u001b[1;31m# FileNotFoundError merupakan subclass dari IOError\u001b[0m\u001b[1;33m\u001b[0m\u001b[1;33m\u001b[0m\u001b[0m\n\u001b[1;32m----> 3\u001b[1;33m \u001b[0ma\u001b[0m \u001b[1;33m=\u001b[0m \u001b[0mopen\u001b[0m\u001b[1;33m(\u001b[0m\u001b[1;34m\"file.txt\"\u001b[0m\u001b[1;33m,\u001b[0m \u001b[1;34m\"r\"\u001b[0m\u001b[1;33m)\u001b[0m\u001b[1;33m\u001b[0m\u001b[1;33m\u001b[0m\u001b[0m\n\u001b[0m",
      "\u001b[1;31mFileNotFoundError\u001b[0m: [Errno 2] No such file or directory: 'file.txt'"
     ]
    }
   ],
   "source": [
    "# akan error karena file tersebut tidak ada\n",
    "# FileNotFoundError merupakan subclass dari IOError\n",
    "a = open(\"file.txt\", \"r\")"
   ]
  },
  {
   "cell_type": "markdown",
   "id": "e334c1a0",
   "metadata": {},
   "source": [
    "# C. NameError\n",
    "\n",
    "NameError terjadi ketika sebuah variabel atau fungsi yang tidak didefinisikan diakses oleh program. Hal ini dapat terjadi karena kesalahan ketik atau karena sebuah variabel atau fungsi belum didefinisikan sebelum digunakan dalam program. Contoh:\n"
   ]
  },
  {
   "cell_type": "code",
   "execution_count": 3,
   "id": "d0fbf1be",
   "metadata": {},
   "outputs": [
    {
     "ename": "NameError",
     "evalue": "name 'varKu' is not defined",
     "output_type": "error",
     "traceback": [
      "\u001b[1;31m---------------------------------------------------------------------------\u001b[0m",
      "\u001b[1;31mNameError\u001b[0m                                 Traceback (most recent call last)",
      "\u001b[1;32m~\\AppData\\Local\\Temp\\ipykernel_9212\\2353889618.py\u001b[0m in \u001b[0;36m<module>\u001b[1;34m\u001b[0m\n\u001b[0;32m      1\u001b[0m \u001b[1;31m# akan error karena variabel varKu tidak pernah didefinisikan\u001b[0m\u001b[1;33m\u001b[0m\u001b[1;33m\u001b[0m\u001b[0m\n\u001b[1;32m----> 2\u001b[1;33m \u001b[0mprint\u001b[0m\u001b[1;33m(\u001b[0m\u001b[0mvarKu\u001b[0m\u001b[1;33m)\u001b[0m\u001b[1;33m\u001b[0m\u001b[1;33m\u001b[0m\u001b[0m\n\u001b[0m",
      "\u001b[1;31mNameError\u001b[0m: name 'varKu' is not defined"
     ]
    }
   ],
   "source": [
    "# akan error karena variabel varKu tidak pernah didefinisikan\n",
    "print(varKu)"
   ]
  },
  {
   "cell_type": "markdown",
   "id": "f2372c13",
   "metadata": {},
   "source": [
    "# D. ZeroDivisionError\n",
    "\n",
    "ZeroDivisionError terjadi ketika sebuah bilangan dibagi dengan nol. Hal ini tidak dapat dilakukan dalam matematika, dan akan menyebabkan error dalam program. Contoh:\n"
   ]
  },
  {
   "cell_type": "code",
   "execution_count": null,
   "id": "0ba3b1ff",
   "metadata": {},
   "outputs": [],
   "source": [
    "# akan error karena tidak bisa membagi dengan nol\n",
    "a = 1/0"
   ]
  },
  {
   "cell_type": "markdown",
   "id": "18fe8a7a",
   "metadata": {},
   "source": [
    "# 2"
   ]
  },
  {
   "cell_type": "markdown",
   "id": "2df7e8d3",
   "metadata": {},
   "source": [
    "# A. Exception Handling\n",
    "\n",
    "Exception Handling adalah suatu proses menangani error yang mungkin terjadi dalam sebuah program. Hal ini dilakukan dengan menggunakan perintah try dan except yang digunakan untuk mengeksekusi kode yang mungkin menyebabkan error dan memberikan aksi yang sesuai jika terjadi error. Contoh:\n"
   ]
  },
  {
   "cell_type": "code",
   "execution_count": 5,
   "id": "32cfe74b",
   "metadata": {},
   "outputs": [
    {
     "name": "stdout",
     "output_type": "stream",
     "text": [
      "Tidak bisa melakukan pembagian\n"
     ]
    }
   ],
   "source": [
    "try:\n",
    "   a = 1/0\n",
    "except:\n",
    "   print(\"Tidak bisa melakukan pembagian\")"
   ]
  },
  {
   "cell_type": "markdown",
   "id": "df37011d",
   "metadata": {},
   "source": [
    "Pada contoh diatas, kode dalam blok try akan dicoba untuk dieksekusi. Jika terjadi error, maka kode dalam blok except akan dieksekusi."
   ]
  },
  {
   "cell_type": "markdown",
   "id": "ccce6974",
   "metadata": {},
   "source": [
    "# B. Menangkap Exception\n",
    "\n",
    "Menangkap exception berarti mencoba mendeteksi error-error tertentu yang mungkin terjadi dalam suatu kode program. Sebagai contoh, kita ingin mendeteksi error apabila kita ingin mengakses suatu karakter pada string dengan index yang tidak ada. Maka kita dapat menambahkan exception IndexError setelah except. Sebagai contoh:\n"
   ]
  },
  {
   "cell_type": "code",
   "execution_count": 6,
   "id": "943f7a5d",
   "metadata": {},
   "outputs": [
    {
     "name": "stdout",
     "output_type": "stream",
     "text": [
      "Masukan text: Senggol\n",
      "Tidak terdapat karakter dengan index ke 100 'Senggol'\n"
     ]
    }
   ],
   "source": [
    "try:\n",
    "    a = input(\"Masukan text: \")\n",
    "    print(a[100])\n",
    "except IndexError:\n",
    "   print(f\"Tidak terdapat karakter dengan index ke 100 '{a}'\")"
   ]
  },
  {
   "cell_type": "markdown",
   "id": "0fdaadfe",
   "metadata": {},
   "source": [
    "Pada program diatas, kita mencoba menangkap exception IndexError yang kemungkinan terjadi jika panjang string kurang dari 101"
   ]
  }
 ],
 "metadata": {
  "kernelspec": {
   "display_name": "Python 3 (ipykernel)",
   "language": "python",
   "name": "python3"
  },
  "language_info": {
   "codemirror_mode": {
    "name": "ipython",
    "version": 3
   },
   "file_extension": ".py",
   "mimetype": "text/x-python",
   "name": "python",
   "nbconvert_exporter": "python",
   "pygments_lexer": "ipython3",
   "version": "3.9.13"
  }
 },
 "nbformat": 4,
 "nbformat_minor": 5
}
